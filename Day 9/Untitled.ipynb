{
 "cells": [
  {
   "cell_type": "markdown",
   "id": "cf88aa33-24ac-4af3-b2e2-0b4a39233834",
   "metadata": {},
   "source": [
    "# First Note Book"
   ]
  },
  {
   "cell_type": "code",
   "execution_count": 1,
   "id": "c1d65492-b9d2-46c9-8de5-f7b79ca9d8a2",
   "metadata": {},
   "outputs": [
    {
     "name": "stdout",
     "output_type": "stream",
     "text": [
      "Welcome to Jupyter Notebook\n"
     ]
    }
   ],
   "source": [
    "print('Welcome to Jupyter Notebook')"
   ]
  },
  {
   "cell_type": "code",
   "execution_count": 2,
   "id": "f9b65836-ccaa-4e26-a7b0-e5b34d9ccbad",
   "metadata": {},
   "outputs": [
    {
     "name": "stdout",
     "output_type": "stream",
     "text": [
      "1\n",
      "2\n",
      "13\n",
      "45\n",
      "56\n"
     ]
    }
   ],
   "source": [
    "numbers=(1,2,13,45,56)\n",
    "for num in numbers:\n",
    "    print(num)"
   ]
  },
  {
   "cell_type": "code",
   "execution_count": null,
   "id": "637a7007-7458-498a-820a-d0c9d4777c4d",
   "metadata": {},
   "outputs": [],
   "source": []
  },
  {
   "cell_type": "markdown",
   "id": "ad1af2e8-7e54-4a3e-af26-5633fe7008ec",
   "metadata": {},
   "source": [
    "# we are going to write one collections"
   ]
  }
 ],
 "metadata": {
  "kernelspec": {
   "display_name": "Python [conda env:base] *",
   "language": "python",
   "name": "conda-base-py"
  },
  "language_info": {
   "codemirror_mode": {
    "name": "ipython",
    "version": 3
   },
   "file_extension": ".py",
   "mimetype": "text/x-python",
   "name": "python",
   "nbconvert_exporter": "python",
   "pygments_lexer": "ipython3",
   "version": "3.13.5"
  }
 },
 "nbformat": 4,
 "nbformat_minor": 5
}
