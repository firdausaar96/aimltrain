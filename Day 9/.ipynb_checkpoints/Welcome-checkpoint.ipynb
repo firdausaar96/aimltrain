{
 "cells": [
  {
   "cell_type": "markdown",
   "id": "c35a296f-a205-467a-915c-21f742677ef7",
   "metadata": {},
   "source": [
    "# First Note book"
   ]
  },
  {
   "cell_type": "code",
   "execution_count": 1,
   "id": "a5701580-24bf-45be-8f9f-066dd5beff39",
   "metadata": {},
   "outputs": [
    {
     "name": "stdout",
     "output_type": "stream",
     "text": [
      "Welcome to notebook\n"
     ]
    }
   ],
   "source": [
    "print('Welcome to notebook')"
   ]
  },
  {
   "cell_type": "code",
   "execution_count": null,
   "id": "afc62165-7e5b-40a5-b9bc-7224c4d9fe2c",
   "metadata": {},
   "outputs": [],
   "source": []
  }
 ],
 "metadata": {
  "kernelspec": {
   "display_name": "Python [conda env:base] *",
   "language": "python",
   "name": "conda-base-py"
  },
  "language_info": {
   "codemirror_mode": {
    "name": "ipython",
    "version": 3
   },
   "file_extension": ".py",
   "mimetype": "text/x-python",
   "name": "python",
   "nbconvert_exporter": "python",
   "pygments_lexer": "ipython3",
   "version": "3.13.5"
  }
 },
 "nbformat": 4,
 "nbformat_minor": 5
}
