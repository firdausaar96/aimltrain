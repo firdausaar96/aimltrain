{
 "cells": [
  {
   "cell_type": "code",
   "execution_count": 1,
   "id": "b016f221-e81b-4bbe-882a-d6aed9083101",
   "metadata": {},
   "outputs": [
    {
     "name": "stdout",
     "output_type": "stream",
     "text": [
      "Welcome to Jupyter Notebook\n"
     ]
    }
   ],
   "source": [
    "print('Welcome to Jupyter Notebook')"
   ]
  },
  {
   "cell_type": "markdown",
   "id": "e974caa2-6017-45d1-a70c-58dc5db00e31",
   "metadata": {},
   "source": [
    "# First Notebook\n",
    "## Step to print a Single Line\n",
    "    We will create Code Cell \n",
    "    We will write print command\n",
    "    We will run the cell"
   ]
  },
  {
   "cell_type": "markdown",
   "id": "4c4b8349-0a74-446a-8460-764f1d8a673e",
   "metadata": {},
   "source": [
    "## For loop example"
   ]
  },
  {
   "cell_type": "code",
   "execution_count": 4,
   "id": "0f180f05-a869-4b28-92b3-ca86fdcf7e8b",
   "metadata": {},
   "outputs": [
    {
     "name": "stdout",
     "output_type": "stream",
     "text": [
      "1\t2\t3\t4\t5\t6\t7\t8\t9\t10\t11\t12\t13\t14\t15\t16\t17\t18\t19\t20\t21\t22\t23\t24\t25\t26\t27\t28\t29\t30\t31\t32\t33\t34\t35\t36\t37\t38\t39\t40\t41\t42\t43\t44\t45\t46\t47\t48\t49\t50\t51\t52\t53\t54\t55\t56\t57\t58\t59\t60\t61\t62\t63\t64\t65\t66\t67\t68\t69\t70\t71\t72\t73\t74\t75\t76\t77\t78\t79\t80\t81\t82\t83\t84\t85\t86\t87\t88\t89\t90\t91\t92\t93\t94\t95\t96\t97\t98\t99\t100\t"
     ]
    }
   ],
   "source": [
    "for num in range(1,101):\n",
    "    print(num, end=\"\\t\")"
   ]
  },
  {
   "cell_type": "code",
   "execution_count": 13,
   "id": "d612e369-9685-4e36-b13e-51a265ca3a75",
   "metadata": {},
   "outputs": [],
   "source": [
    "players=('MS Dhoni','Moin Ali','Rasid Khan','David','Joe Root','Adam')"
   ]
  },
  {
   "cell_type": "code",
   "execution_count": 14,
   "id": "5b9b4337-a35e-4bc5-959f-55cc098108d1",
   "metadata": {},
   "outputs": [
    {
     "name": "stdout",
     "output_type": "stream",
     "text": [
      "MS Dhoni\n",
      "Moin Ali\n",
      "Rasid Khan\n",
      "David\n",
      "Joe Root\n",
      "Adam\n"
     ]
    }
   ],
   "source": [
    "for player in players:\n",
    "    print(player)"
   ]
  },
  {
   "cell_type": "code",
   "execution_count": null,
   "id": "d88b87b9-2ce0-4dff-ad75-2828f98737c4",
   "metadata": {},
   "outputs": [],
   "source": []
  }
 ],
 "metadata": {
  "kernelspec": {
   "display_name": "Python [conda env:base] *",
   "language": "python",
   "name": "conda-base-py"
  },
  "language_info": {
   "codemirror_mode": {
    "name": "ipython",
    "version": 3
   },
   "file_extension": ".py",
   "mimetype": "text/x-python",
   "name": "python",
   "nbconvert_exporter": "python",
   "pygments_lexer": "ipython3",
   "version": "3.13.5"
  }
 },
 "nbformat": 4,
 "nbformat_minor": 5
}
