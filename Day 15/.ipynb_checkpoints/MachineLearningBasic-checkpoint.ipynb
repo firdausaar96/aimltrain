{
 "cells": [
  {
   "cell_type": "code",
   "execution_count": 2,
   "id": "93501cdc-5f5e-49de-89ce-c1676c2533fb",
   "metadata": {},
   "outputs": [],
   "source": [
    "import pandas as pd\n",
    "from sklearn.model_selection import train_test_split\n",
    "from sklearn.linear_model import LinearRegression"
   ]
  },
  {
   "cell_type": "code",
   "execution_count": 4,
   "id": "a24fcefe-8fb7-4d64-a190-efd74e2eb235",
   "metadata": {},
   "outputs": [],
   "source": [
    "data={\n",
    "    'Hours':[1,2,3,4,5,6,7,8],\n",
    "    'Marks':[25,35,45,50,55,65,70,80]\n",
    "    }\n",
    "df=pd.DataFrame(data)\n"
   ]
  },
  {
   "cell_type": "code",
   "execution_count": 5,
   "id": "fa783f48-3012-4ce9-9690-1b553fc774bc",
   "metadata": {},
   "outputs": [],
   "source": [
    "#Step 3: define Features and Target\n",
    "x=df[['Hours']]\n",
    "y=df[['Marks']]"
   ]
  },
  {
   "cell_type": "code",
   "execution_count": 6,
   "id": "1342fb79-74f7-496b-930d-5cda32838774",
   "metadata": {},
   "outputs": [
    {
     "name": "stdout",
     "output_type": "stream",
     "text": [
      "Training Sample:  6\n",
      "Training Sample:  2\n"
     ]
    }
   ],
   "source": [
    "#Step 4: Split data into train and Test sets\n",
    "x_train,x_test,y_train,y_test=train_test_split(x,y)\n",
    "print('Training Sample: ',len(x_train))\n",
    "print('Training Sample: ',len(x_test))"
   ]
  },
  {
   "cell_type": "code",
   "execution_count": 7,
   "id": "adbcdc53-63c5-4736-acfa-5715fed67221",
   "metadata": {},
   "outputs": [
    {
     "name": "stdout",
     "output_type": "stream",
     "text": [
      "Model trained Sucessfully\n"
     ]
    }
   ],
   "source": [
    "#Step 5: Create the model\n",
    "#Step 6:Train the model\n",
    "model=LinearRegression()\n",
    "model.fit(x_train,y_train)\n",
    "print('Model trained Sucessfully')"
   ]
  },
  {
   "cell_type": "code",
   "execution_count": 8,
   "id": "8977ee0e-a678-4a40-9f38-a3bce949c9c8",
   "metadata": {},
   "outputs": [
    {
     "name": "stdout",
     "output_type": "stream",
     "text": [
      "[[25]\n",
      " [35]]\n",
      "   Hours\n",
      "0      1\n",
      "1      2\n",
      "Actual:  [array([25]), array([35])]\n",
      "Predicted:  [array([29.33333333]), array([36.33333333])]\n"
     ]
    }
   ],
   "source": [
    "y_pred=model.predict(x_test)\n",
    "print(y_test.values)\n",
    "print(x_test)\n",
    "print('Actual: ',list(y_test.values))\n",
    "print('Predicted: ',list(y_pred))"
   ]
  },
  {
   "cell_type": "code",
   "execution_count": null,
   "id": "6dfebd1d-748f-43cf-bb53-0ee7b464067d",
   "metadata": {},
   "outputs": [],
   "source": []
  }
 ],
 "metadata": {
  "kernelspec": {
   "display_name": "Python [conda env:base] *",
   "language": "python",
   "name": "conda-base-py"
  },
  "language_info": {
   "codemirror_mode": {
    "name": "ipython",
    "version": 3
   },
   "file_extension": ".py",
   "mimetype": "text/x-python",
   "name": "python",
   "nbconvert_exporter": "python",
   "pygments_lexer": "ipython3",
   "version": "3.13.5"
  }
 },
 "nbformat": 4,
 "nbformat_minor": 5
}
