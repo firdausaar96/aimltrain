{
 "cells": [
  {
   "cell_type": "markdown",
   "id": "8810b216-617c-4d52-a09d-777f8cd9a01d",
   "metadata": {},
   "source": [
    "# Numpy Introduction and usage\n",
    "## we will use numpy in this jupyter notebook"
   ]
  },
  {
   "cell_type": "code",
   "execution_count": 7,
   "id": "9da73f9d-077c-4054-a58c-296d40357130",
   "metadata": {},
   "outputs": [],
   "source": [
    "## One Dimensional Array"
   ]
  },
  {
   "cell_type": "code",
   "execution_count": 8,
   "id": "c764481b-db5d-4611-a131-5bc7f174dbc9",
   "metadata": {},
   "outputs": [],
   "source": [
    "import numpy as np"
   ]
  },
  {
   "cell_type": "code",
   "execution_count": 9,
   "id": "6b0421c0-6a7d-4887-8866-57ae29390b8e",
   "metadata": {},
   "outputs": [],
   "source": [
    "array1=np.array([10,20,30,40,50])"
   ]
  },
  {
   "cell_type": "code",
   "execution_count": 10,
   "id": "87a455a3-fa09-4f4b-aded-734c86f3c3e8",
   "metadata": {},
   "outputs": [
    {
     "name": "stdout",
     "output_type": "stream",
     "text": [
      "[10 20 30 40 50]\n"
     ]
    }
   ],
   "source": [
    "print(array1)"
   ]
  },
  {
   "cell_type": "code",
   "execution_count": 11,
   "id": "c6766aa4-0f53-4766-865d-8e82b7202a46",
   "metadata": {},
   "outputs": [],
   "source": [
    "## Two Dimensional Array"
   ]
  },
  {
   "cell_type": "code",
   "execution_count": 12,
   "id": "d5b41800-37c5-4a67-a7c5-f2b7e975ba15",
   "metadata": {},
   "outputs": [
    {
     "name": "stdout",
     "output_type": "stream",
     "text": [
      "[[10 20 30]\n",
      " [40 50 60]]\n"
     ]
    }
   ],
   "source": [
    "array2=np.array([[10,20,30],[40,50,60]])\n",
    "print(array2)"
   ]
  },
  {
   "cell_type": "code",
   "execution_count": 13,
   "id": "cdf0fc73-581e-4d2e-babd-cac16813a138",
   "metadata": {},
   "outputs": [],
   "source": [
    "## Three Dimensional Array"
   ]
  },
  {
   "cell_type": "code",
   "execution_count": 14,
   "id": "89eb5a6e-7f18-4740-b4f2-cd81c325331f",
   "metadata": {},
   "outputs": [
    {
     "name": "stdout",
     "output_type": "stream",
     "text": [
      "[[[10 20 30]\n",
      "  [40 50 60]]\n",
      "\n",
      " [[10 20 30]\n",
      "  [40 50 60]]]\n"
     ]
    }
   ],
   "source": [
    "array3=np.array([[[10,20,30],[40,50,60]],[[10,20,30],[40,50,60]]])\n",
    "print(array3)"
   ]
  },
  {
   "cell_type": "markdown",
   "id": "3aef617d-0e89-43aa-afab-949e8266d453",
   "metadata": {},
   "source": [
    "# Write an array: to take marks of 5 students in 3 subjects using Numpy\n",
    "## Math, English, Chemistry\n",
    "## [[50,45,49],[40,42,45],[35,40,46],[39,40,45],[48,40,40]]"
   ]
  },
  {
   "cell_type": "code",
   "execution_count": 15,
   "id": "2d3e39b5-1b18-4190-968f-0705879027cc",
   "metadata": {},
   "outputs": [
    {
     "name": "stdout",
     "output_type": "stream",
     "text": [
      "2D Array Example\n",
      "[[50 45 49]\n",
      " [40 42 45]\n",
      " [35 40 46]\n",
      " [39 40 45]\n",
      " [48 40 40]]\n"
     ]
    }
   ],
   "source": [
    "mark_subject=np.array([[50,45,49],[40,42,45],[35,40,46],[39,40,45],[48,40,40]])\n",
    "print('2D Array Example')\n",
    "print(mark_subject)"
   ]
  },
  {
   "cell_type": "markdown",
   "id": "8696e48b-af8d-410e-a858-5346f7134b2d",
   "metadata": {},
   "source": [
    "# Write an array: to take marks of 4 students in 3 subjects for 2 semerter using Numpy\n",
    "    ## Students Name are: 'Amit', 'Sha', 'Xi, 'Arif'\n",
    "    ## Math, English, Chemistry\n",
    "    ## Two Semester: sem1, sem2\n",
    "    ## 4*3*2\n",
    "    ## [[85,88],[78,82][90,95]],[[76,70],[40,45][90,90]],[[80,86],[78,82][90,95]],[[85,88],[78,82][70,90]]]"
   ]
  },
  {
   "cell_type": "code",
   "execution_count": 16,
   "id": "450bdc67-472f-4d4d-b575-132669a2fb09",
   "metadata": {},
   "outputs": [],
   "source": [
    "mark_subject_sem=np.array([[[85,88],[78,82],[90,95]],\n",
    "                           [[76,70],[40,45],[90,90]],\n",
    "                           [[80,86],[78,82],[90,95]],\n",
    "                           [[85,88],[78,82],[70,90]]])"
   ]
  },
  {
   "cell_type": "code",
   "execution_count": 17,
   "id": "3b25d26a-4c81-4a96-ada3-b56d559f2d5f",
   "metadata": {},
   "outputs": [
    {
     "name": "stdout",
     "output_type": "stream",
     "text": [
      "[[[85 88]\n",
      "  [78 82]\n",
      "  [90 95]]\n",
      "\n",
      " [[76 70]\n",
      "  [40 45]\n",
      "  [90 90]]\n",
      "\n",
      " [[80 86]\n",
      "  [78 82]\n",
      "  [90 95]]\n",
      "\n",
      " [[85 88]\n",
      "  [78 82]\n",
      "  [70 90]]]\n"
     ]
    }
   ],
   "source": [
    "print(mark_subject_sem)"
   ]
  },
  {
   "cell_type": "markdown",
   "id": "6daa06b4-31a5-47f3-94c9-897d448204d4",
   "metadata": {},
   "source": [
    "# Mathematical Operation"
   ]
  },
  {
   "cell_type": "code",
   "execution_count": 18,
   "id": "f2a6b9fa-0013-45f5-af60-a2e6a2ab83e9",
   "metadata": {},
   "outputs": [
    {
     "name": "stdout",
     "output_type": "stream",
     "text": [
      "[10 20 30 40 50]\n"
     ]
    }
   ],
   "source": [
    "print(array1)"
   ]
  },
  {
   "cell_type": "code",
   "execution_count": 19,
   "id": "a529c514-0229-41fd-901c-bb03fdd6c3e3",
   "metadata": {},
   "outputs": [],
   "source": [
    "total=np.sum(array1)"
   ]
  },
  {
   "cell_type": "code",
   "execution_count": 20,
   "id": "1edf2e9e-8ceb-4ec4-9b37-b452612d6a29",
   "metadata": {},
   "outputs": [
    {
     "name": "stdout",
     "output_type": "stream",
     "text": [
      "150\n"
     ]
    }
   ],
   "source": [
    "print(total)"
   ]
  },
  {
   "cell_type": "code",
   "execution_count": 21,
   "id": "689d34dc-8255-4a35-8499-c07f30e1d9a9",
   "metadata": {},
   "outputs": [
    {
     "name": "stdout",
     "output_type": "stream",
     "text": [
      "Mean:  30.0\n"
     ]
    }
   ],
   "source": [
    "print('Mean: ',np.mean(array1))"
   ]
  },
  {
   "cell_type": "code",
   "execution_count": 22,
   "id": "9d90d582-f981-4484-a061-0e4c785c638c",
   "metadata": {},
   "outputs": [
    {
     "name": "stdout",
     "output_type": "stream",
     "text": [
      "Index of max:  4\n"
     ]
    }
   ],
   "source": [
    "print('Index of max: ',np.argmax(array1))"
   ]
  },
  {
   "cell_type": "code",
   "execution_count": 23,
   "id": "4eed54a5-1a86-4570-8367-d80951f5f08b",
   "metadata": {},
   "outputs": [
    {
     "name": "stdout",
     "output_type": "stream",
     "text": [
      "[ 100  200  300 7000  400  500  300 1900  600]\n"
     ]
    }
   ],
   "source": [
    "our_arr=np.array([100,200,300,7000,400,500,300,1900,600])\n",
    "print(our_arr)"
   ]
  },
  {
   "cell_type": "code",
   "execution_count": 24,
   "id": "33a6794f-49b1-4b5f-b6ec-60f4c483804c",
   "metadata": {},
   "outputs": [],
   "source": [
    "## Searching and Sorting Example in 1D array"
   ]
  },
  {
   "cell_type": "code",
   "execution_count": 25,
   "id": "6c73098a-716d-443f-96d3-38e69cbfb376",
   "metadata": {},
   "outputs": [
    {
     "name": "stdout",
     "output_type": "stream",
     "text": [
      "**** Sorted Array \n",
      "[ 100  200  300  300  400  500  600 1900 7000]\n"
     ]
    }
   ],
   "source": [
    "sorted_arr=np.sort(our_arr)\n",
    "print('**** Sorted Array ')\n",
    "print(sorted_arr)"
   ]
  },
  {
   "cell_type": "code",
   "execution_count": 26,
   "id": "d08c2373-e6f0-4522-a6ad-d4e9c32bf9f5",
   "metadata": {},
   "outputs": [
    {
     "name": "stdout",
     "output_type": "stream",
     "text": [
      "Is there any item greater than 500? :  True\n"
     ]
    }
   ],
   "source": [
    "print('Is there any item greater than 500? : ',np.any(sorted_arr>500))"
   ]
  },
  {
   "cell_type": "code",
   "execution_count": 27,
   "id": "95b6ff84-1ac4-49f0-ba60-ff0f1aad4c3c",
   "metadata": {},
   "outputs": [
    {
     "name": "stdout",
     "output_type": "stream",
     "text": [
      "All item greater than 500? :  True\n"
     ]
    }
   ],
   "source": [
    "print('All item greater than 500? : ',np.all(sorted_arr>10))"
   ]
  },
  {
   "cell_type": "code",
   "execution_count": 28,
   "id": "1490b1c6-4416-41f4-a9bc-b266201cc40a",
   "metadata": {},
   "outputs": [
    {
     "name": "stdout",
     "output_type": "stream",
     "text": [
      "All item greater than 10? :  True\n"
     ]
    }
   ],
   "source": [
    "print('All item greater than 10? : ',np.all(sorted_arr>10))"
   ]
  },
  {
   "cell_type": "code",
   "execution_count": 29,
   "id": "1d413bba-9ed4-481b-8d1f-ba2cd9ed1e8c",
   "metadata": {},
   "outputs": [
    {
     "name": "stdout",
     "output_type": "stream",
     "text": [
      "Which item greater than 500? :  (array([6, 7, 8]),)\n"
     ]
    }
   ],
   "source": [
    "print('Which item greater than 500? : ',np.where(sorted_arr>500))"
   ]
  },
  {
   "cell_type": "code",
   "execution_count": 30,
   "id": "016c8210-304c-455d-a0c1-4206e6fdef9a",
   "metadata": {},
   "outputs": [
    {
     "name": "stdout",
     "output_type": "stream",
     "text": [
      "All item greater than 500 \n",
      "[6 7 8]\n"
     ]
    }
   ],
   "source": [
    "print('All item greater than 500 ')\n",
    "for num in np.where(sorted_arr>500):\n",
    "    print (num)"
   ]
  },
  {
   "cell_type": "code",
   "execution_count": 31,
   "id": "1165acbc-672d-4faf-8208-1102b9db3cd2",
   "metadata": {},
   "outputs": [
    {
     "name": "stdout",
     "output_type": "stream",
     "text": [
      "All item greater than 500 \n",
      "False\n",
      "False\n",
      "False\n",
      "False\n",
      "False\n",
      "False\n",
      "True\n",
      "True\n",
      "True\n"
     ]
    }
   ],
   "source": [
    "print('All item greater than 500 ')\n",
    "for num in sorted_arr>500:\n",
    "    print (num)"
   ]
  },
  {
   "cell_type": "code",
   "execution_count": 33,
   "id": "b69b3c94-56af-4eb5-bec4-743d5d45f6d4",
   "metadata": {},
   "outputs": [],
   "source": [
    "selected_values=sorted_arr[sorted_arr>500]"
   ]
  },
  {
   "cell_type": "code",
   "execution_count": 35,
   "id": "66d6c1bf-a515-44a3-b120-daa6d7744f38",
   "metadata": {},
   "outputs": [
    {
     "name": "stdout",
     "output_type": "stream",
     "text": [
      "600\n",
      "1900\n",
      "7000\n"
     ]
    }
   ],
   "source": [
    "for num in sorted_arr[sorted_arr>500]:\n",
    "    print (num)"
   ]
  },
  {
   "cell_type": "markdown",
   "id": "200a19f4-b7ef-4884-ad74-b57adc15842a",
   "metadata": {},
   "source": [
    "# Slicing 1D Array"
   ]
  },
  {
   "cell_type": "code",
   "execution_count": 43,
   "id": "dd2d506d-6434-4cf8-9d2c-ab145ea26bc6",
   "metadata": {},
   "outputs": [
    {
     "name": "stdout",
     "output_type": "stream",
     "text": [
      "[ 100  200  300  300  400  500  600 1900 7000]\n"
     ]
    }
   ],
   "source": [
    "print(sorted_arr)"
   ]
  },
  {
   "cell_type": "code",
   "execution_count": 42,
   "id": "8c068873-6068-4fd3-8e73-a00e57215b11",
   "metadata": {},
   "outputs": [
    {
     "name": "stdout",
     "output_type": "stream",
     "text": [
      "[200 300]\n"
     ]
    }
   ],
   "source": [
    "slice_our_array=sorted_arr[1:3]\n",
    "print(slice_our_array)"
   ]
  },
  {
   "cell_type": "code",
   "execution_count": null,
   "id": "1199a901-b92e-4317-b1f7-629cca63c729",
   "metadata": {},
   "outputs": [],
   "source": [
    "## Starting from an index and going till last"
   ]
  },
  {
   "cell_type": "code",
   "execution_count": 41,
   "id": "73efbe00-cc5e-493e-bd5c-9a23252ac7cd",
   "metadata": {},
   "outputs": [
    {
     "name": "stdout",
     "output_type": "stream",
     "text": [
      "[ 300  400  500  600 1900 7000]\n"
     ]
    }
   ],
   "source": [
    "print(sorted_arr[3:])"
   ]
  },
  {
   "cell_type": "code",
   "execution_count": 46,
   "id": "bc2f1cd8-4d08-4a71-ba82-fd5bbfdaf2f5",
   "metadata": {},
   "outputs": [
    {
     "name": "stdout",
     "output_type": "stream",
     "text": [
      "[100 200 300 300]\n"
     ]
    }
   ],
   "source": [
    "print(sorted_arr[:4])"
   ]
  },
  {
   "cell_type": "code",
   "execution_count": 47,
   "id": "63f3b46c-47b5-40e2-9e99-1e97ead63ff6",
   "metadata": {},
   "outputs": [],
   "source": [
    "# Step\n",
    "# [start: end: step]\n",
    "# Step: every step element"
   ]
  },
  {
   "cell_type": "code",
   "execution_count": 48,
   "id": "c68949c1-9f75-4c68-8ac2-68bc57fc056e",
   "metadata": {},
   "outputs": [
    {
     "name": "stdout",
     "output_type": "stream",
     "text": [
      "[200 300 500]\n"
     ]
    }
   ],
   "source": [
    "our_slice=sorted_arr[1:6:2]\n",
    "print(our_slice)"
   ]
  },
  {
   "cell_type": "code",
   "execution_count": 54,
   "id": "58f244cd-6748-4d9c-aeae-1b303dc0a323",
   "metadata": {},
   "outputs": [
    {
     "name": "stdout",
     "output_type": "stream",
     "text": [
      "Original Array :\n",
      "[ 100  200  300  300  400  500  600 1900 7000]\n",
      "\n",
      "Every Third Element: \n",
      "[100 300 600]\n"
     ]
    }
   ],
   "source": [
    "print('Original Array :')\n",
    "print(sorted_arr)\n",
    "print('\\nEvery Third Element: ')\n",
    "every_third_element=sorted_arr[::3]\n",
    "print(every_third_element)\n"
   ]
  },
  {
   "cell_type": "code",
   "execution_count": 57,
   "id": "2a823019-6038-4913-a0b4-a6666af1ae9b",
   "metadata": {},
   "outputs": [
    {
     "name": "stdout",
     "output_type": "stream",
     "text": [
      "Original Array :\n",
      "[ 100  200  300  300  400  500  600 1900 7000]\n",
      "\n",
      "Reverse Array: \n",
      "[7000 1900  600  500  400  300  300  200  100]\n"
     ]
    }
   ],
   "source": [
    "print('Original Array :')\n",
    "print(sorted_arr)\n",
    "print('\\nReverse Array: ')\n",
    "print(sorted_arr[::-1])"
   ]
  },
  {
   "cell_type": "code",
   "execution_count": null,
   "id": "cba32ab4-476e-46f3-88ab-72f0af1596f6",
   "metadata": {},
   "outputs": [],
   "source": []
  }
 ],
 "metadata": {
  "kernelspec": {
   "display_name": "Python [conda env:base] *",
   "language": "python",
   "name": "conda-base-py"
  },
  "language_info": {
   "codemirror_mode": {
    "name": "ipython",
    "version": 3
   },
   "file_extension": ".py",
   "mimetype": "text/x-python",
   "name": "python",
   "nbconvert_exporter": "python",
   "pygments_lexer": "ipython3",
   "version": "3.13.5"
  }
 },
 "nbformat": 4,
 "nbformat_minor": 5
}
