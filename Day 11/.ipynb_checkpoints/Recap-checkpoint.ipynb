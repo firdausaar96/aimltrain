{
 "cells": [
  {
   "cell_type": "markdown",
   "id": "4a024d26-1a43-4231-921a-96230b6128d9",
   "metadata": {},
   "source": [
    "# Basic Panda Example to read out from an excel file"
   ]
  },
  {
   "cell_type": "code",
   "execution_count": 1,
   "id": "d5bd7f47-a76e-4cc4-96e9-04034acfa196",
   "metadata": {},
   "outputs": [],
   "source": [
    "import pandas as pd"
   ]
  },
  {
   "cell_type": "code",
   "execution_count": 5,
   "id": "696d83c0-79f2-430e-9301-a266b478dc2e",
   "metadata": {},
   "outputs": [],
   "source": [
    "df=pd.read_excel('students.xlsx')"
   ]
  },
  {
   "cell_type": "code",
   "execution_count": 9,
   "id": "eabc6f45-08b9-46ba-ab05-68fb75fbe34d",
   "metadata": {},
   "outputs": [],
   "source": [
    "dfpatient=pd.read_csv(\"C:/Users/pc/Desktop/AiMLTraining/Day 10/patients.csv\")"
   ]
  },
  {
   "cell_type": "code",
   "execution_count": 10,
   "id": "df4f0d59-db4c-42d6-a62d-c75daf9650cf",
   "metadata": {},
   "outputs": [
    {
     "data": {
      "text/html": [
       "<div>\n",
       "<style scoped>\n",
       "    .dataframe tbody tr th:only-of-type {\n",
       "        vertical-align: middle;\n",
       "    }\n",
       "\n",
       "    .dataframe tbody tr th {\n",
       "        vertical-align: top;\n",
       "    }\n",
       "\n",
       "    .dataframe thead th {\n",
       "        text-align: right;\n",
       "    }\n",
       "</style>\n",
       "<table border=\"1\" class=\"dataframe\">\n",
       "  <thead>\n",
       "    <tr style=\"text-align: right;\">\n",
       "      <th></th>\n",
       "      <th>patient_id</th>\n",
       "      <th>name</th>\n",
       "      <th>age</th>\n",
       "      <th>arrival_date</th>\n",
       "      <th>departure_date</th>\n",
       "      <th>service</th>\n",
       "      <th>satisfaction</th>\n",
       "    </tr>\n",
       "  </thead>\n",
       "  <tbody>\n",
       "    <tr>\n",
       "      <th>0</th>\n",
       "      <td>PAT-09484753</td>\n",
       "      <td>Richard Rodriguez</td>\n",
       "      <td>24</td>\n",
       "      <td>2025-03-16</td>\n",
       "      <td>2025-03-22</td>\n",
       "      <td>surgery</td>\n",
       "      <td>61</td>\n",
       "    </tr>\n",
       "    <tr>\n",
       "      <th>1</th>\n",
       "      <td>PAT-f0644084</td>\n",
       "      <td>Shannon Walker</td>\n",
       "      <td>6</td>\n",
       "      <td>2025-12-13</td>\n",
       "      <td>2025-12-14</td>\n",
       "      <td>surgery</td>\n",
       "      <td>83</td>\n",
       "    </tr>\n",
       "    <tr>\n",
       "      <th>2</th>\n",
       "      <td>PAT-ac6162e4</td>\n",
       "      <td>Julia Torres</td>\n",
       "      <td>24</td>\n",
       "      <td>2025-06-29</td>\n",
       "      <td>2025-07-05</td>\n",
       "      <td>general_medicine</td>\n",
       "      <td>83</td>\n",
       "    </tr>\n",
       "    <tr>\n",
       "      <th>3</th>\n",
       "      <td>PAT-3dda2bb5</td>\n",
       "      <td>Crystal Johnson</td>\n",
       "      <td>32</td>\n",
       "      <td>2025-10-12</td>\n",
       "      <td>2025-10-23</td>\n",
       "      <td>emergency</td>\n",
       "      <td>81</td>\n",
       "    </tr>\n",
       "    <tr>\n",
       "      <th>4</th>\n",
       "      <td>PAT-08591375</td>\n",
       "      <td>Garrett Lin</td>\n",
       "      <td>25</td>\n",
       "      <td>2025-02-18</td>\n",
       "      <td>2025-02-25</td>\n",
       "      <td>ICU</td>\n",
       "      <td>76</td>\n",
       "    </tr>\n",
       "    <tr>\n",
       "      <th>...</th>\n",
       "      <td>...</td>\n",
       "      <td>...</td>\n",
       "      <td>...</td>\n",
       "      <td>...</td>\n",
       "      <td>...</td>\n",
       "      <td>...</td>\n",
       "      <td>...</td>\n",
       "    </tr>\n",
       "    <tr>\n",
       "      <th>995</th>\n",
       "      <td>PAT-a01bf534</td>\n",
       "      <td>Amber Vang</td>\n",
       "      <td>26</td>\n",
       "      <td>2025-12-02</td>\n",
       "      <td>2025-12-04</td>\n",
       "      <td>emergency</td>\n",
       "      <td>91</td>\n",
       "    </tr>\n",
       "    <tr>\n",
       "      <th>996</th>\n",
       "      <td>PAT-87fa07bd</td>\n",
       "      <td>Martha Smith</td>\n",
       "      <td>89</td>\n",
       "      <td>2025-11-18</td>\n",
       "      <td>2025-11-30</td>\n",
       "      <td>emergency</td>\n",
       "      <td>99</td>\n",
       "    </tr>\n",
       "    <tr>\n",
       "      <th>997</th>\n",
       "      <td>PAT-8f07e894</td>\n",
       "      <td>Jennifer James</td>\n",
       "      <td>72</td>\n",
       "      <td>2025-12-12</td>\n",
       "      <td>2025-12-21</td>\n",
       "      <td>ICU</td>\n",
       "      <td>69</td>\n",
       "    </tr>\n",
       "    <tr>\n",
       "      <th>998</th>\n",
       "      <td>PAT-4ae301e1</td>\n",
       "      <td>Kara Hernandez</td>\n",
       "      <td>47</td>\n",
       "      <td>2025-02-08</td>\n",
       "      <td>2025-02-20</td>\n",
       "      <td>ICU</td>\n",
       "      <td>61</td>\n",
       "    </tr>\n",
       "    <tr>\n",
       "      <th>999</th>\n",
       "      <td>PAT-e2ef9c5f</td>\n",
       "      <td>Lorraine Turner</td>\n",
       "      <td>64</td>\n",
       "      <td>2025-05-04</td>\n",
       "      <td>2025-05-08</td>\n",
       "      <td>general_medicine</td>\n",
       "      <td>83</td>\n",
       "    </tr>\n",
       "  </tbody>\n",
       "</table>\n",
       "<p>1000 rows × 7 columns</p>\n",
       "</div>"
      ],
      "text/plain": [
       "       patient_id               name  age arrival_date departure_date  \\\n",
       "0    PAT-09484753  Richard Rodriguez   24   2025-03-16     2025-03-22   \n",
       "1    PAT-f0644084     Shannon Walker    6   2025-12-13     2025-12-14   \n",
       "2    PAT-ac6162e4       Julia Torres   24   2025-06-29     2025-07-05   \n",
       "3    PAT-3dda2bb5    Crystal Johnson   32   2025-10-12     2025-10-23   \n",
       "4    PAT-08591375        Garrett Lin   25   2025-02-18     2025-02-25   \n",
       "..            ...                ...  ...          ...            ...   \n",
       "995  PAT-a01bf534         Amber Vang   26   2025-12-02     2025-12-04   \n",
       "996  PAT-87fa07bd       Martha Smith   89   2025-11-18     2025-11-30   \n",
       "997  PAT-8f07e894     Jennifer James   72   2025-12-12     2025-12-21   \n",
       "998  PAT-4ae301e1     Kara Hernandez   47   2025-02-08     2025-02-20   \n",
       "999  PAT-e2ef9c5f    Lorraine Turner   64   2025-05-04     2025-05-08   \n",
       "\n",
       "              service  satisfaction  \n",
       "0             surgery            61  \n",
       "1             surgery            83  \n",
       "2    general_medicine            83  \n",
       "3           emergency            81  \n",
       "4                 ICU            76  \n",
       "..                ...           ...  \n",
       "995         emergency            91  \n",
       "996         emergency            99  \n",
       "997               ICU            69  \n",
       "998               ICU            61  \n",
       "999  general_medicine            83  \n",
       "\n",
       "[1000 rows x 7 columns]"
      ]
     },
     "execution_count": 10,
     "metadata": {},
     "output_type": "execute_result"
    }
   ],
   "source": [
    "dfpatient"
   ]
  },
  {
   "cell_type": "code",
   "execution_count": 11,
   "id": "72f92340-1850-49a6-9364-09bffd586afd",
   "metadata": {},
   "outputs": [
    {
     "data": {
      "text/plain": [
       "0      Richard Rodriguez\n",
       "1         Shannon Walker\n",
       "2           Julia Torres\n",
       "3        Crystal Johnson\n",
       "4            Garrett Lin\n",
       "             ...        \n",
       "995           Amber Vang\n",
       "996         Martha Smith\n",
       "997       Jennifer James\n",
       "998       Kara Hernandez\n",
       "999      Lorraine Turner\n",
       "Name: name, Length: 1000, dtype: object"
      ]
     },
     "execution_count": 11,
     "metadata": {},
     "output_type": "execute_result"
    }
   ],
   "source": [
    "dfpatient['name']"
   ]
  },
  {
   "cell_type": "code",
   "execution_count": 12,
   "id": "7caf8166-b10c-4dad-b96c-743d3d698e2b",
   "metadata": {},
   "outputs": [],
   "source": [
    "## head in dataframe"
   ]
  },
  {
   "cell_type": "code",
   "execution_count": 13,
   "id": "9a09021f-ca1e-4565-9a3c-0a94bebc0615",
   "metadata": {},
   "outputs": [
    {
     "data": {
      "text/html": [
       "<div>\n",
       "<style scoped>\n",
       "    .dataframe tbody tr th:only-of-type {\n",
       "        vertical-align: middle;\n",
       "    }\n",
       "\n",
       "    .dataframe tbody tr th {\n",
       "        vertical-align: top;\n",
       "    }\n",
       "\n",
       "    .dataframe thead th {\n",
       "        text-align: right;\n",
       "    }\n",
       "</style>\n",
       "<table border=\"1\" class=\"dataframe\">\n",
       "  <thead>\n",
       "    <tr style=\"text-align: right;\">\n",
       "      <th></th>\n",
       "      <th>patient_id</th>\n",
       "      <th>name</th>\n",
       "      <th>age</th>\n",
       "      <th>arrival_date</th>\n",
       "      <th>departure_date</th>\n",
       "      <th>service</th>\n",
       "      <th>satisfaction</th>\n",
       "    </tr>\n",
       "  </thead>\n",
       "  <tbody>\n",
       "    <tr>\n",
       "      <th>0</th>\n",
       "      <td>PAT-09484753</td>\n",
       "      <td>Richard Rodriguez</td>\n",
       "      <td>24</td>\n",
       "      <td>2025-03-16</td>\n",
       "      <td>2025-03-22</td>\n",
       "      <td>surgery</td>\n",
       "      <td>61</td>\n",
       "    </tr>\n",
       "    <tr>\n",
       "      <th>1</th>\n",
       "      <td>PAT-f0644084</td>\n",
       "      <td>Shannon Walker</td>\n",
       "      <td>6</td>\n",
       "      <td>2025-12-13</td>\n",
       "      <td>2025-12-14</td>\n",
       "      <td>surgery</td>\n",
       "      <td>83</td>\n",
       "    </tr>\n",
       "    <tr>\n",
       "      <th>2</th>\n",
       "      <td>PAT-ac6162e4</td>\n",
       "      <td>Julia Torres</td>\n",
       "      <td>24</td>\n",
       "      <td>2025-06-29</td>\n",
       "      <td>2025-07-05</td>\n",
       "      <td>general_medicine</td>\n",
       "      <td>83</td>\n",
       "    </tr>\n",
       "    <tr>\n",
       "      <th>3</th>\n",
       "      <td>PAT-3dda2bb5</td>\n",
       "      <td>Crystal Johnson</td>\n",
       "      <td>32</td>\n",
       "      <td>2025-10-12</td>\n",
       "      <td>2025-10-23</td>\n",
       "      <td>emergency</td>\n",
       "      <td>81</td>\n",
       "    </tr>\n",
       "    <tr>\n",
       "      <th>4</th>\n",
       "      <td>PAT-08591375</td>\n",
       "      <td>Garrett Lin</td>\n",
       "      <td>25</td>\n",
       "      <td>2025-02-18</td>\n",
       "      <td>2025-02-25</td>\n",
       "      <td>ICU</td>\n",
       "      <td>76</td>\n",
       "    </tr>\n",
       "  </tbody>\n",
       "</table>\n",
       "</div>"
      ],
      "text/plain": [
       "     patient_id               name  age arrival_date departure_date  \\\n",
       "0  PAT-09484753  Richard Rodriguez   24   2025-03-16     2025-03-22   \n",
       "1  PAT-f0644084     Shannon Walker    6   2025-12-13     2025-12-14   \n",
       "2  PAT-ac6162e4       Julia Torres   24   2025-06-29     2025-07-05   \n",
       "3  PAT-3dda2bb5    Crystal Johnson   32   2025-10-12     2025-10-23   \n",
       "4  PAT-08591375        Garrett Lin   25   2025-02-18     2025-02-25   \n",
       "\n",
       "            service  satisfaction  \n",
       "0           surgery            61  \n",
       "1           surgery            83  \n",
       "2  general_medicine            83  \n",
       "3         emergency            81  \n",
       "4               ICU            76  "
      ]
     },
     "execution_count": 13,
     "metadata": {},
     "output_type": "execute_result"
    }
   ],
   "source": [
    "dfpatient.head()"
   ]
  },
  {
   "cell_type": "code",
   "execution_count": 14,
   "id": "50363cee-2851-4d66-b689-91365e87c548",
   "metadata": {},
   "outputs": [],
   "source": [
    "## Tail Example"
   ]
  },
  {
   "cell_type": "code",
   "execution_count": 15,
   "id": "4734d907-9501-49e0-b9e4-936a41510503",
   "metadata": {},
   "outputs": [
    {
     "name": "stdout",
     "output_type": "stream",
     "text": [
      "Last two students in Excel Sheet\n"
     ]
    },
    {
     "data": {
      "text/html": [
       "<div>\n",
       "<style scoped>\n",
       "    .dataframe tbody tr th:only-of-type {\n",
       "        vertical-align: middle;\n",
       "    }\n",
       "\n",
       "    .dataframe tbody tr th {\n",
       "        vertical-align: top;\n",
       "    }\n",
       "\n",
       "    .dataframe thead th {\n",
       "        text-align: right;\n",
       "    }\n",
       "</style>\n",
       "<table border=\"1\" class=\"dataframe\">\n",
       "  <thead>\n",
       "    <tr style=\"text-align: right;\">\n",
       "      <th></th>\n",
       "      <th>Name</th>\n",
       "      <th>Age</th>\n",
       "      <th>Marks</th>\n",
       "    </tr>\n",
       "  </thead>\n",
       "  <tbody>\n",
       "    <tr>\n",
       "      <th>2</th>\n",
       "      <td>Bob</td>\n",
       "      <td>21</td>\n",
       "      <td>78</td>\n",
       "    </tr>\n",
       "    <tr>\n",
       "      <th>3</th>\n",
       "      <td>Sara</td>\n",
       "      <td>23</td>\n",
       "      <td>92</td>\n",
       "    </tr>\n",
       "  </tbody>\n",
       "</table>\n",
       "</div>"
      ],
      "text/plain": [
       "   Name  Age  Marks\n",
       "2   Bob   21     78\n",
       "3  Sara   23     92"
      ]
     },
     "execution_count": 15,
     "metadata": {},
     "output_type": "execute_result"
    }
   ],
   "source": [
    "print('Last two students in Excel Sheet')\n",
    "df.tail(2)"
   ]
  },
  {
   "cell_type": "code",
   "execution_count": 17,
   "id": "6ae155d4-d302-4459-b92b-ae35776191f3",
   "metadata": {},
   "outputs": [
    {
     "data": {
      "text/plain": [
       "(4, 3)"
      ]
     },
     "execution_count": 17,
     "metadata": {},
     "output_type": "execute_result"
    }
   ],
   "source": [
    "df.shape"
   ]
  },
  {
   "cell_type": "code",
   "execution_count": 23,
   "id": "01b1506c-d83c-4106-8c6a-29ad604d9c0d",
   "metadata": {},
   "outputs": [
    {
     "name": "stdout",
     "output_type": "stream",
     "text": [
      "Row: 1000 Column: 7 \n"
     ]
    }
   ],
   "source": [
    "r,c=dfpatient.shape\n",
    "print (f\"Row: {r} Column: {c} \")"
   ]
  },
  {
   "cell_type": "code",
   "execution_count": 24,
   "id": "8809d935-c5ab-482e-8c82-d401ecc273fc",
   "metadata": {},
   "outputs": [],
   "source": [
    "## values in dataframe"
   ]
  },
  {
   "cell_type": "code",
   "execution_count": 25,
   "id": "75cfe8df-efae-4e83-8360-52f572238afa",
   "metadata": {},
   "outputs": [
    {
     "name": "stdout",
     "output_type": "stream",
     "text": [
      "Student Values\n"
     ]
    },
    {
     "data": {
      "text/plain": [
       "array([['John', 20, 85],\n",
       "       ['Alice', 22, 90],\n",
       "       ['Bob', 21, 78],\n",
       "       ['Sara', 23, 92]], dtype=object)"
      ]
     },
     "execution_count": 25,
     "metadata": {},
     "output_type": "execute_result"
    }
   ],
   "source": [
    "print('Student Values')\n",
    "df.values"
   ]
  },
  {
   "cell_type": "code",
   "execution_count": 26,
   "id": "457e414c-deac-4eb2-844a-8054696a6837",
   "metadata": {},
   "outputs": [
    {
     "data": {
      "text/plain": [
       "array([['PAT-09484753', 'Richard Rodriguez', 24, ..., '2025-03-22',\n",
       "        'surgery', 61],\n",
       "       ['PAT-f0644084', 'Shannon Walker', 6, ..., '2025-12-14',\n",
       "        'surgery', 83],\n",
       "       ['PAT-ac6162e4', 'Julia Torres', 24, ..., '2025-07-05',\n",
       "        'general_medicine', 83],\n",
       "       ...,\n",
       "       ['PAT-8f07e894', 'Jennifer James', 72, ..., '2025-12-21', 'ICU',\n",
       "        69],\n",
       "       ['PAT-4ae301e1', 'Kara Hernandez', 47, ..., '2025-02-20', 'ICU',\n",
       "        61],\n",
       "       ['PAT-e2ef9c5f', 'Lorraine Turner', 64, ..., '2025-05-08',\n",
       "        'general_medicine', 83]], dtype=object)"
      ]
     },
     "execution_count": 26,
     "metadata": {},
     "output_type": "execute_result"
    }
   ],
   "source": [
    "dfpatient.values"
   ]
  },
  {
   "cell_type": "code",
   "execution_count": null,
   "id": "5203d5b3-b2d4-48f7-b93a-6176a417b484",
   "metadata": {},
   "outputs": [],
   "source": []
  }
 ],
 "metadata": {
  "kernelspec": {
   "display_name": "Python [conda env:base] *",
   "language": "python",
   "name": "conda-base-py"
  },
  "language_info": {
   "codemirror_mode": {
    "name": "ipython",
    "version": 3
   },
   "file_extension": ".py",
   "mimetype": "text/x-python",
   "name": "python",
   "nbconvert_exporter": "python",
   "pygments_lexer": "ipython3",
   "version": "3.13.5"
  }
 },
 "nbformat": 4,
 "nbformat_minor": 5
}
