{
 "cells": [
  {
   "cell_type": "code",
   "execution_count": 1,
   "id": "bce5294a-f17c-4c30-bfed-a4e552996ccb",
   "metadata": {},
   "outputs": [],
   "source": [
    "import pandas as pd\n",
    "import numpy as np"
   ]
  },
  {
   "cell_type": "code",
   "execution_count": 2,
   "id": "7c296074-845f-45fd-96f1-67b9a4c3e6e2",
   "metadata": {},
   "outputs": [
    {
     "name": "stdout",
     "output_type": "stream",
     "text": [
      "    Name  Age  Marks\n",
      "0   John   20     85\n",
      "1  Alice   22     90\n",
      "2    Bob   21     78\n",
      "3   Sara   23     92\n"
     ]
    }
   ],
   "source": [
    "df=pd.read_excel('students.xlsx')\n",
    "print(df)"
   ]
  },
  {
   "cell_type": "code",
   "execution_count": 5,
   "id": "e8d5b709-1197-4736-aa91-4137a8d78b12",
   "metadata": {},
   "outputs": [
    {
     "name": "stdout",
     "output_type": "stream",
     "text": [
      "Numpy Array of Marks: \n",
      "[85 90 78 92]\n"
     ]
    }
   ],
   "source": [
    "marks=df['Marks'].to_numpy()\n",
    "print('Numpy Array of Marks: ')\n",
    "print(marks)"
   ]
  },
  {
   "cell_type": "code",
   "execution_count": 6,
   "id": "69eb616e-2406-4652-bbc4-b1439dd8cf59",
   "metadata": {},
   "outputs": [
    {
     "name": "stdout",
     "output_type": "stream",
     "text": [
      "Highest marks  92\n"
     ]
    }
   ],
   "source": [
    "print('Highest marks ',np.max(marks))"
   ]
  },
  {
   "cell_type": "code",
   "execution_count": 7,
   "id": "18b36b7f-b1ff-4e24-bfcc-93282fe63a53",
   "metadata": {},
   "outputs": [
    {
     "name": "stdout",
     "output_type": "stream",
     "text": [
      "Lowest marks  78\n"
     ]
    }
   ],
   "source": [
    "print('Lowest marks ',np.min(marks))"
   ]
  },
  {
   "cell_type": "code",
   "execution_count": 8,
   "id": "22f65424-98bf-44d2-9f8e-436d3e91e95c",
   "metadata": {},
   "outputs": [
    {
     "name": "stdout",
     "output_type": "stream",
     "text": [
      "Average marks  86.25\n"
     ]
    }
   ],
   "source": [
    "print('Average marks ',np.mean(marks))"
   ]
  },
  {
   "cell_type": "code",
   "execution_count": 9,
   "id": "396437e3-b051-4789-880d-83fdee6a214f",
   "metadata": {},
   "outputs": [],
   "source": [
    "# .loc: Label based\n",
    "# .iloc: Index based"
   ]
  },
  {
   "cell_type": "code",
   "execution_count": 16,
   "id": "c2ceb930-6060-41c2-9b05-e3be50b9d497",
   "metadata": {},
   "outputs": [
    {
     "name": "stdout",
     "output_type": "stream",
     "text": [
      "Original DataFrame: \n",
      "    Name  Age  Marks\n",
      "0   John   20     85\n",
      "1  Alice   22     90\n",
      "2    Bob   21     78\n",
      "3   Sara   23     92\n",
      "\n",
      "Location : Location Based \n",
      "Name     John\n",
      "Age        20\n",
      "Marks      85\n",
      "Name: 0, dtype: object\n"
     ]
    }
   ],
   "source": [
    "print('Original DataFrame: ')\n",
    "print(df)\n",
    "print('\\nLocation : Location Based ')\n",
    "print(df.loc[0])"
   ]
  },
  {
   "cell_type": "code",
   "execution_count": 15,
   "id": "9d7db7bd-ebd5-45c8-8b4b-5c634ff85e26",
   "metadata": {},
   "outputs": [
    {
     "name": "stdout",
     "output_type": "stream",
     "text": [
      "Original DataFrame: \n",
      "    Name  Age  Marks\n",
      "0   John   20     85\n",
      "1  Alice   22     90\n",
      "2    Bob   21     78\n",
      "3   Sara   23     92\n",
      "\n",
      "Location : Index Based \n",
      "Name     John\n",
      "Age        20\n",
      "Marks      85\n",
      "Name: 0, dtype: object\n"
     ]
    }
   ],
   "source": [
    "print('Original DataFrame: ')\n",
    "print(df)\n",
    "print('\\nLocation : Index Based ')\n",
    "print(df.iloc[0])"
   ]
  },
  {
   "cell_type": "code",
   "execution_count": 18,
   "id": "b3abb786-8851-42ca-a6f4-f3febc69acfc",
   "metadata": {},
   "outputs": [
    {
     "name": "stdout",
     "output_type": "stream",
     "text": [
      "Original DataFrame: \n",
      "    Name  Age  Marks\n",
      "0   John   20     85\n",
      "1  Alice   22     90\n",
      "2    Bob   21     78\n",
      "3   Sara   23     92\n",
      "\n",
      "Location : Location Based \n",
      "Name    Bob\n",
      "Name: 2, dtype: object\n"
     ]
    }
   ],
   "source": [
    "print('Original DataFrame: ')\n",
    "print(df)\n",
    "print('\\nLocation : Location Based ')\n",
    "print(df.loc[2,['Name']])"
   ]
  },
  {
   "cell_type": "markdown",
   "id": "a4242a1b-f2e9-4826-83ba-5a9576c2c70d",
   "metadata": {},
   "source": [
    "# Axis in Numpy : \n",
    "    ## Axis 0 : vertical direction: works column wise\n",
    "    ## Axis 1 : horizontal direction : works row-wise"
   ]
  },
  {
   "cell_type": "code",
   "execution_count": 19,
   "id": "646664c0-fa5a-40ee-9de9-6e0c79b40e7f",
   "metadata": {},
   "outputs": [],
   "source": [
    "## We have 2 students marks in 3 subject\n",
    "## [[45,50,49],[30,45,49]]"
   ]
  },
  {
   "cell_type": "code",
   "execution_count": 20,
   "id": "f2940659-abbf-491a-9df5-fbe849bc66e4",
   "metadata": {},
   "outputs": [
    {
     "name": "stdout",
     "output_type": "stream",
     "text": [
      "[[45 50 49]\n",
      " [30 45 49]]\n"
     ]
    }
   ],
   "source": [
    "marks_array=np.array([[45,50,49],[30,45,49]])\n",
    "print(marks_array)"
   ]
  },
  {
   "cell_type": "code",
   "execution_count": 22,
   "id": "9f1bee85-46d0-4ef4-ae91-f87362ff49b5",
   "metadata": {},
   "outputs": [
    {
     "name": "stdout",
     "output_type": "stream",
     "text": [
      "Sum down each column  [75 95 98]\n"
     ]
    }
   ],
   "source": [
    "print('Sum down each column ',np.sum(marks_array,axis=0))"
   ]
  },
  {
   "cell_type": "code",
   "execution_count": 23,
   "id": "d8598e94-58a3-49c4-9687-8ff3a3432a3b",
   "metadata": {},
   "outputs": [
    {
     "name": "stdout",
     "output_type": "stream",
     "text": [
      "Sum down each row  [144 124]\n"
     ]
    }
   ],
   "source": [
    "print('Sum down each row ',np.sum(marks_array,axis=1))"
   ]
  },
  {
   "cell_type": "markdown",
   "id": "1ae94070-9d1a-41df-9a4e-4b21dfeb84da",
   "metadata": {},
   "source": [
    "Find the Student Name who got highest marks"
   ]
  },
  {
   "cell_type": "code",
   "execution_count": 27,
   "id": "b8b28e5e-f2d4-4ced-84b4-3cefb87cabd5",
   "metadata": {},
   "outputs": [
    {
     "name": "stdout",
     "output_type": "stream",
     "text": [
      "Sara\n"
     ]
    }
   ],
   "source": [
    "topper=df.loc[df['Marks'].idxmax(),'Name']\n",
    "print(topper)"
   ]
  },
  {
   "cell_type": "code",
   "execution_count": 30,
   "id": "42c99bc7-0e79-430a-ac39-98267e69b095",
   "metadata": {},
   "outputs": [
    {
     "name": "stdout",
     "output_type": "stream",
     "text": [
      "Bob\n"
     ]
    }
   ],
   "source": [
    "lastinclass=df.loc[df['Marks'].idxmin(),'Name']\n",
    "print(lastinclass)"
   ]
  },
  {
   "cell_type": "code",
   "execution_count": 31,
   "id": "4c0651d3-c686-438a-9cdc-e0b163bb9844",
   "metadata": {},
   "outputs": [
    {
     "name": "stdout",
     "output_type": "stream",
     "text": [
      "3\n"
     ]
    }
   ],
   "source": [
    "top_index=df['Marks'].idxmax()\n",
    "print(top_index)"
   ]
  },
  {
   "cell_type": "code",
   "execution_count": 34,
   "id": "da1b48b0-04ce-40a7-bd2e-1a68d767a834",
   "metadata": {},
   "outputs": [
    {
     "name": "stdout",
     "output_type": "stream",
     "text": [
      "Topper of the Class : Sara\n"
     ]
    }
   ],
   "source": [
    "top_student=df.iloc[top_index,df.columns.get_loc('Name')]\n",
    "print('Topper of the Class :',top_student)"
   ]
  },
  {
   "cell_type": "code",
   "execution_count": null,
   "id": "37885fdc-f0c4-431f-ba15-39283719bfec",
   "metadata": {},
   "outputs": [],
   "source": []
  }
 ],
 "metadata": {
  "kernelspec": {
   "display_name": "Python [conda env:base] *",
   "language": "python",
   "name": "conda-base-py"
  },
  "language_info": {
   "codemirror_mode": {
    "name": "ipython",
    "version": 3
   },
   "file_extension": ".py",
   "mimetype": "text/x-python",
   "name": "python",
   "nbconvert_exporter": "python",
   "pygments_lexer": "ipython3",
   "version": "3.13.5"
  }
 },
 "nbformat": 4,
 "nbformat_minor": 5
}
